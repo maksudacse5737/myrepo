{
 "cells": [
  {
   "cell_type": "code",
   "execution_count": 3,
   "metadata": {
    "execution": {
     "iopub.execute_input": "2022-02-07T10:58:53.207844Z",
     "iopub.status.busy": "2022-02-07T10:58:53.207485Z",
     "iopub.status.idle": "2022-02-07T10:58:53.926663Z",
     "shell.execute_reply": "2022-02-07T10:58:53.925842Z",
     "shell.execute_reply.started": "2022-02-07T10:58:53.207804Z"
    }
   },
   "outputs": [],
   "source": [
    "import os\n",
    "import cv2\n",
    "import numpy as np\n",
    "import pywt"
   ]
  },
  {
   "cell_type": "code",
   "execution_count": 4,
   "metadata": {
    "execution": {
     "iopub.execute_input": "2022-02-07T10:59:12.808438Z",
     "iopub.status.busy": "2022-02-07T10:59:12.808177Z",
     "iopub.status.idle": "2022-02-07T10:59:12.814774Z",
     "shell.execute_reply": "2022-02-07T10:59:12.814198Z",
     "shell.execute_reply.started": "2022-02-07T10:59:12.808410Z"
    }
   },
   "outputs": [],
   "source": [
    "root_directory = \"./Data/\"\n",
    "\n",
    "train_data=[] # X_train\n",
    "test_data=[] # X_test\n",
    "train_label=[] # y_train\n",
    "test_label=[] # y_test\n",
    "\n",
    "img_row,img_col = 32,32\n",
    "\n",
    "num_of_classes = 2\n",
    "\n",
    "data_type =[\"train\",\"test\"]\n",
    "folder_names=[\"covid_without_PNEUMONIA\",\"covid_with_PNEUMONIA\"]\n",
    "label_mapping={\"covid_without_PNEUMONIA\":0,\"covid_with_PNEUMONIA\":1}"
   ]
  },
  {
   "cell_type": "code",
   "execution_count": 5,
   "metadata": {
    "execution": {
     "iopub.execute_input": "2022-02-07T10:59:21.542378Z",
     "iopub.status.busy": "2022-02-07T10:59:21.541622Z",
     "iopub.status.idle": "2022-02-07T10:59:21.549059Z",
     "shell.execute_reply": "2022-02-07T10:59:21.548104Z",
     "shell.execute_reply.started": "2022-02-07T10:59:21.542336Z"
    }
   },
   "outputs": [],
   "source": [
    "def w2d(img, mode='haar', level=1): #skipped\n",
    "    imArray = img\n",
    "\n",
    "    imArray = cv2.cvtColor( imArray,cv2.COLOR_RGB2GRAY )\n",
    "    #convert to float\n",
    "    imArray =  np.float32(imArray)   \n",
    "    imArray /= 255;\n",
    "\n",
    "    coeffs=pywt.wavedec2(imArray, mode, level=level)\n",
    "\n",
    "\n",
    "    coeffs_H=list(coeffs)  \n",
    "    coeffs_H[0] *= 0;  \n",
    "\n",
    "    imArray_H=pywt.waverec2(coeffs_H, mode);\n",
    "    imArray_H *= 255;\n",
    "    imArray_H =  np.uint8(imArray_H)\n",
    "\n",
    "    return imArray_H"
   ]
  },
  {
   "cell_type": "code",
   "execution_count": 8,
   "metadata": {
    "execution": {
     "iopub.execute_input": "2022-02-07T10:59:52.287927Z",
     "iopub.status.busy": "2022-02-07T10:59:52.287615Z",
     "iopub.status.idle": "2022-02-07T10:59:52.294663Z",
     "shell.execute_reply": "2022-02-07T10:59:52.293821Z",
     "shell.execute_reply.started": "2022-02-07T10:59:52.287892Z"
    }
   },
   "outputs": [],
   "source": [
    "def process_img(dataset,folder,filename): \n",
    "    file_path = root_directory+\"/\"+dataset+\"/\"+folder+\"/\"+filename\n",
    "    img = cv2.imread(file_path)\n",
    "    scalled_raw_img = cv2.resize(img, (32, 32))\n",
    "    img_har = w2d(img,'db1',5) #dlt\n",
    "    scalled_img_har = cv2.resize(img_har, (32, 32)) #dlt \n",
    "    combined_img = np.vstack((scalled_raw_img.reshape(32*32*3,1),scalled_img_har.reshape(32*32,1))) #dlt \n",
    "    return combined_img  #scalled_raw_img"
   ]
  },
  {
   "cell_type": "code",
   "execution_count": 10,
   "metadata": {
    "execution": {
     "iopub.execute_input": "2022-02-07T11:00:12.937503Z",
     "iopub.status.busy": "2022-02-07T11:00:12.937044Z",
     "iopub.status.idle": "2022-02-07T11:00:56.302860Z",
     "shell.execute_reply": "2022-02-07T11:00:56.302143Z",
     "shell.execute_reply.started": "2022-02-07T11:00:12.937452Z"
    }
   },
   "outputs": [],
   "source": [
    "for dataset in data_type:\n",
    "    for folder in folder_names:\n",
    "        for filename in os.listdir(root_directory+\"/\"+dataset+\"/\"+folder+\"/\"):\n",
    "            if dataset == \"train\":\n",
    "                train_data.append((process_img(dataset,folder,filename))/255.0) #rescale+resize\n",
    "                train_label.append(label_mapping[folder])\n",
    "            else:\n",
    "                test_data.append((process_img(dataset,folder,filename))/255.0)\n",
    "                test_label.append(label_mapping[folder])"
   ]
  },
  {
   "cell_type": "code",
   "execution_count": 11,
   "metadata": {
    "execution": {
     "iopub.execute_input": "2022-02-07T11:00:56.304735Z",
     "iopub.status.busy": "2022-02-07T11:00:56.304332Z",
     "iopub.status.idle": "2022-02-07T11:00:56.322696Z",
     "shell.execute_reply": "2022-02-07T11:00:56.321960Z",
     "shell.execute_reply.started": "2022-02-07T11:00:56.304684Z"
    }
   },
   "outputs": [],
   "source": [
    "train_data = np.asarray(train_data)\n",
    "train_label = np.asarray(train_label)\n",
    "\n",
    "test_data = np.asarray(test_data)\n",
    "test_label = np.asarray(test_label)\n",
    "\n",
    "X_train = train_data\n",
    "X_test = test_data\n",
    "\n",
    "y_train = train_label \n",
    "y_test = test_label \n",
    "\n",
    "X_train = np.array(X_train).reshape(len(X_train),4096).astype(float)\n",
    "X_test = np.array(X_test).reshape(len(X_test),4096).astype(float) # 4096 is vectorized lenght of an image"
   ]
  },
  {
   "cell_type": "code",
   "execution_count": 12,
   "metadata": {
    "execution": {
     "iopub.execute_input": "2022-02-07T11:00:56.324483Z",
     "iopub.status.busy": "2022-02-07T11:00:56.323744Z",
     "iopub.status.idle": "2022-02-07T11:00:58.428838Z",
     "shell.execute_reply": "2022-02-07T11:00:58.427913Z",
     "shell.execute_reply.started": "2022-02-07T11:00:56.324447Z"
    }
   },
   "outputs": [],
   "source": [
    "import pandas as pd\n",
    "import pandas_profiling as pp\n",
    "import seaborn as sns\n",
    "from matplotlib import pyplot as plt\n",
    "import numpy as np\n",
    "from sklearn.preprocessing import StandardScaler\n",
    "from sklearn.model_selection import train_test_split\n",
    "from sklearn import metrics\n",
    "from sklearn.naive_bayes import GaussianNB\n",
    "from sklearn.ensemble import RandomForestClassifier, AdaBoostClassifier\n",
    "from sklearn.tree import DecisionTreeClassifier\n",
    "from sklearn.svm import SVC\n",
    "from sklearn.neighbors import KNeighborsClassifier\n",
    "from sklearn.linear_model import LogisticRegression\n",
    "from sklearn.model_selection import cross_val_score\n",
    "from sklearn.model_selection import GridSearchCV"
   ]
  },
  {
   "cell_type": "code",
   "execution_count": 29,
   "metadata": {
    "execution": {
     "iopub.execute_input": "2022-02-07T11:15:18.156652Z",
     "iopub.status.busy": "2022-02-07T11:15:18.156241Z",
     "iopub.status.idle": "2022-02-07T11:15:18.168234Z",
     "shell.execute_reply": "2022-02-07T11:15:18.167463Z",
     "shell.execute_reply.started": "2022-02-07T11:15:18.156623Z"
    }
   },
   "outputs": [],
   "source": [
    "scores=[] \n",
    "\n",
    "best_estimators = {}\n",
    "\n",
    "model_params = {\n",
    "\n",
    "'KNeighborsClassifier': {\n",
    "    'model': KNeighborsClassifier(),\n",
    "    'params': {\n",
    "        'n_neighbors': [4,5,6],\n",
    "        'algorithm' : ['auto','ball_tree','kd_tree'],\n",
    "        'weights' : ['uniform','distance'],\n",
    "        'leaf_size' : [27,26,25,24,23,22,21,20,19]\n",
    "    }\n",
    "},\n",
    "\n",
    "'DecisionTreeClassifier': {\n",
    "    'model': DecisionTreeClassifier(),\n",
    "    'params': {\n",
    "        'criterion': ['gini','entropy'],\n",
    "        'max_depth' : [9,10,11,12,13,14]\n",
    "    }\n",
    "},\n",
    "\n",
    "\n",
    "'AdaBoostClassifier': {\n",
    "    'model': AdaBoostClassifier(),\n",
    "    'params': {\n",
    "        'n_estimators': [40,41,42,43],\n",
    "        'learning_rate' : [0.8],\n",
    "        'algorithm' : ['SAMME', 'SAMME.R']\n",
    "    }\n",
    "},\n",
    "\n",
    "'GaussianNB': {\n",
    "    'model': GaussianNB(),\n",
    "    'params': {\n",
    "\n",
    "    }\n",
    "},\n",
    "\n",
    " 'LOGISTIC_REGRESSION': {\n",
    "    'model': LogisticRegression(max_iter=500),\n",
    "    'params': {\n",
    "        'C': [1,2,3],\n",
    "        'solver' : [ 'liblinear', 'lbfgs'],\n",
    "        'multi_class' : ['auto', 'ovr' ]\n",
    "    }\n",
    "},\n",
    "\n",
    "\n",
    "'SVM': {\n",
    "    'model': SVC(),\n",
    "    'params': {\n",
    "         'C': [5,6,7,8,9],\n",
    "         'kernel': ['rbf','linear'],\n",
    "         'gamma': ['auto', 'scale']\n",
    "    }\n",
    "},\n",
    "\n",
    "'RANDOM_FOREST':{\n",
    "    'model' : RandomForestClassifier(),\n",
    "    'params': {\n",
    "        'n_estimators':[12,7,8,9,11,10,13,14,16],\n",
    "        'criterion': ['entropy'],\n",
    "        'random_state' : [14,15,13,16],\n",
    "        'max_depth' : [7,8,6,9]\n",
    "\n",
    "    }\n",
    "}\n",
    "}"
   ]
  },
  {
   "cell_type": "code",
   "execution_count": 30,
   "metadata": {
    "execution": {
     "iopub.execute_input": "2022-02-07T11:15:18.321627Z",
     "iopub.status.busy": "2022-02-07T11:15:18.321234Z",
     "iopub.status.idle": "2022-02-07T11:16:02.866149Z",
     "shell.execute_reply": "2022-02-07T11:16:02.865247Z",
     "shell.execute_reply.started": "2022-02-07T11:15:18.321598Z"
    }
   },
   "outputs": [
    {
     "name": "stdout",
     "output_type": "stream",
     "text": [
      "KNeighborsClassifier() {'n_neighbors': [6], 'algorithm': ['auto'], 'weights': ['distance'], 'leaf_size': [27]}\n",
      "DecisionTreeClassifier() {'criterion': ['gini'], 'max_depth': [14]}\n",
      "AdaBoostClassifier() {'n_estimators': [42], 'learning_rate': [0.8], 'algorithm': ['SAMME']}\n",
      "GaussianNB() {}\n",
      "LogisticRegression(max_iter=500) {'C': [1], 'solver': ['lbfgs'], 'multi_class': ['auto']}\n",
      "SVC() {'C': [9], 'kernel': ['rbf'], 'gamma': ['auto']}\n",
      "RandomForestClassifier() {'n_estimators': [11], 'criterion': ['entropy'], 'random_state': [13], 'max_depth': [6]}\n"
     ]
    }
   ],
   "source": [
    "for model_name, mp in model_params.items():\n",
    "    clf = GridSearchCV(mp['model'], mp['params'], cv=5, return_train_score=False)\n",
    "    print(mp['model'], mp['params'])\n",
    "\n",
    "    \n",
    "    clf.fit(X_train, y_train)    \n",
    "    \n",
    "\n",
    "    scores.append({\n",
    "        'model': model_name,\n",
    "        'best_score': clf.best_score_,\n",
    "        'best_params': str(clf.best_params_)\n",
    "    })\n",
    "    best_estimators[model_name] = clf.best_estimator_"
   ]
  },
  {
   "cell_type": "code",
   "execution_count": 47,
   "metadata": {
    "execution": {
     "iopub.execute_input": "2022-02-07T11:24:49.812056Z",
     "iopub.status.busy": "2022-02-07T11:24:49.811757Z",
     "iopub.status.idle": "2022-02-07T11:24:49.821969Z",
     "shell.execute_reply": "2022-02-07T11:24:49.821381Z",
     "shell.execute_reply.started": "2022-02-07T11:24:49.812025Z"
    }
   },
   "outputs": [
    {
     "data": {
      "text/html": [
       "<div>\n",
       "<style scoped>\n",
       "    .dataframe tbody tr th:only-of-type {\n",
       "        vertical-align: middle;\n",
       "    }\n",
       "\n",
       "    .dataframe tbody tr th {\n",
       "        vertical-align: top;\n",
       "    }\n",
       "\n",
       "    .dataframe thead th {\n",
       "        text-align: right;\n",
       "    }\n",
       "</style>\n",
       "<table border=\"1\" class=\"dataframe\">\n",
       "  <thead>\n",
       "    <tr style=\"text-align: right;\">\n",
       "      <th></th>\n",
       "      <th>model</th>\n",
       "      <th>best_score</th>\n",
       "      <th>best_params</th>\n",
       "    </tr>\n",
       "  </thead>\n",
       "  <tbody>\n",
       "    <tr>\n",
       "      <th>0</th>\n",
       "      <td>RANDOM_FOREST</td>\n",
       "      <td>0.935556</td>\n",
       "      <td>{'criterion': 'entropy', 'max_depth': 6, 'n_es...</td>\n",
       "    </tr>\n",
       "    <tr>\n",
       "      <th>1</th>\n",
       "      <td>SVM</td>\n",
       "      <td>0.935556</td>\n",
       "      <td>{'C': 9, 'gamma': 'auto', 'kernel': 'rbf'}</td>\n",
       "    </tr>\n",
       "    <tr>\n",
       "      <th>2</th>\n",
       "      <td>KNeighborsClassifier</td>\n",
       "      <td>0.933333</td>\n",
       "      <td>{'algorithm': 'auto', 'leaf_size': 27, 'n_neig...</td>\n",
       "    </tr>\n",
       "    <tr>\n",
       "      <th>3</th>\n",
       "      <td>GaussianNB</td>\n",
       "      <td>0.927326</td>\n",
       "      <td>{}</td>\n",
       "    </tr>\n",
       "    <tr>\n",
       "      <th>4</th>\n",
       "      <td>LOGISTIC_REGRESSION</td>\n",
       "      <td>0.922222</td>\n",
       "      <td>{'C': 1, 'multi_class': 'auto', 'solver': 'lbf...</td>\n",
       "    </tr>\n",
       "    <tr>\n",
       "      <th>5</th>\n",
       "      <td>AdaBoostClassifier</td>\n",
       "      <td>0.902222</td>\n",
       "      <td>{'algorithm': 'SAMME', 'learning_rate': 0.8, '...</td>\n",
       "    </tr>\n",
       "    <tr>\n",
       "      <th>6</th>\n",
       "      <td>DecisionTreeClassifier</td>\n",
       "      <td>0.853333</td>\n",
       "      <td>{'criterion': 'gini', 'max_depth': 14}</td>\n",
       "    </tr>\n",
       "  </tbody>\n",
       "</table>\n",
       "</div>"
      ],
      "text/plain": [
       "                    model  best_score  \\\n",
       "0           RANDOM_FOREST    0.935556   \n",
       "1                     SVM    0.935556   \n",
       "2    KNeighborsClassifier    0.933333   \n",
       "3              GaussianNB    0.927326   \n",
       "4     LOGISTIC_REGRESSION    0.922222   \n",
       "5      AdaBoostClassifier    0.902222   \n",
       "6  DecisionTreeClassifier    0.853333   \n",
       "\n",
       "                                         best_params  \n",
       "0  {'criterion': 'entropy', 'max_depth': 6, 'n_es...  \n",
       "1         {'C': 9, 'gamma': 'auto', 'kernel': 'rbf'}  \n",
       "2  {'algorithm': 'auto', 'leaf_size': 27, 'n_neig...  \n",
       "3                                                 {}  \n",
       "4  {'C': 1, 'multi_class': 'auto', 'solver': 'lbf...  \n",
       "5  {'algorithm': 'SAMME', 'learning_rate': 0.8, '...  \n",
       "6             {'criterion': 'gini', 'max_depth': 14}  "
      ]
     },
     "execution_count": 47,
     "metadata": {},
     "output_type": "execute_result"
    }
   ],
   "source": [
    "import pandas as pd    \n",
    "df2 = pd.DataFrame(scores,columns=['model','best_score','best_params'])\n",
    "df2 = df2.sort_values(by='best_score',ascending=False)\n",
    "df2"
   ]
  }
 ],
 "metadata": {
  "kernelspec": {
   "display_name": "Python 3 (ipykernel)",
   "language": "python",
   "name": "python3"
  },
  "language_info": {
   "codemirror_mode": {
    "name": "ipython",
    "version": 3
   },
   "file_extension": ".py",
   "mimetype": "text/x-python",
   "name": "python",
   "nbconvert_exporter": "python",
   "pygments_lexer": "ipython3",
   "version": "3.9.7"
  }
 },
 "nbformat": 4,
 "nbformat_minor": 4
}
